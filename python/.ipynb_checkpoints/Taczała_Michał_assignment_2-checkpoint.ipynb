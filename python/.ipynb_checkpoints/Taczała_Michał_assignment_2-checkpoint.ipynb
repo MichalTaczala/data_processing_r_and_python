{
 "cells": [
  {
   "cell_type": "markdown",
   "metadata": {},
   "source": [
    "# Michał Taczała"
   ]
  },
  {
   "cell_type": "markdown",
   "metadata": {},
   "source": [
    "# Assignment 2 Data processing in R and Python"
   ]
  },
  {
   "cell_type": "markdown",
   "metadata": {},
   "source": [
    "# 7.12.2023"
   ]
  },
  {
   "cell_type": "markdown",
   "metadata": {},
   "source": [
    "# Importing packages"
   ]
  },
  {
   "cell_type": "code",
   "execution_count": 34,
   "metadata": {},
   "outputs": [],
   "source": [
    "import pandas as pd\n",
    "import os, os.path\n",
    "import sqlite3\n",
    "import tempfile\n",
    "import numpy as np\n",
    "import importlib\n",
    "\n",
    "\n",
    "#importing this way to prevent saving in cashe old versions of functions\n",
    "from importlib import reload\n",
    "import Taczała_Michał_assignment_2\n",
    "\n",
    "reload(Taczała_Michał_assignment_2)\n",
    "from Taczała_Michał_assignment_2 import *\n",
    "\n"
   ]
  },
  {
   "cell_type": "markdown",
   "metadata": {},
   "source": [
    "# Reading the data"
   ]
  },
  {
   "cell_type": "code",
   "execution_count": 28,
   "metadata": {},
   "outputs": [],
   "source": [
    "Posts = pd.read_csv(\"../Posts.csv\")\n",
    "Comments = pd.read_csv(\"../Comments.csv\")\n",
    "PostLinks = pd.read_csv(\"../PostLinks.csv\")\n",
    "Users = pd.read_csv(\"../Users.csv\")"
   ]
  },
  {
   "cell_type": "markdown",
   "metadata": {},
   "source": [
    "# Creation of the database"
   ]
  },
  {
   "cell_type": "code",
   "execution_count": 29,
   "metadata": {},
   "outputs": [
    {
     "data": {
      "text/plain": [
       "95922"
      ]
     },
     "execution_count": 29,
     "metadata": {},
     "output_type": "execute_result"
    }
   ],
   "source": [
    "baza = os.path.join(tempfile.mkdtemp(), \"example.db\")\n",
    "if os.path.isfile(baza):  # if this file already exists...\n",
    "    os.remove(baza)  # ...we will remove it\n",
    "conn = sqlite3.connect(baza)  # create the connection\n",
    "Comments.to_sql(\"Comments\", conn)\n",
    "PostLinks.to_sql(\"PostLinks\", conn)\n",
    "Posts.to_sql(\"Posts\", conn)\n",
    "Users.to_sql(\"Users\", conn)"
   ]
  },
  {
   "cell_type": "markdown",
   "metadata": {},
   "source": [
    "# Compare results"
   ]
  },
  {
   "cell_type": "markdown",
   "metadata": {},
   "source": [
    "## Query 1"
   ]
  },
  {
   "cell_type": "markdown",
   "metadata": {},
   "source": [
    "``` sql\n",
    "SELECT Location, COUNT(*) AS Count\n",
    "FROM (\n",
    "  SELECT Posts.OwnerUserId, Users.Id, Users.Location\n",
    "  FROM Users\n",
    "  JOIN Posts ON Users.Id = Posts.OwnerUserId\n",
    ")\n",
    "WHERE Location NOT IN ('')\n",
    "GROUP BY Location\n",
    "ORDER BY Count DESC\n",
    "LIMIT 10\n",
    "```"
   ]
  },
  {
   "cell_type": "code",
   "execution_count": 4,
   "metadata": {},
   "outputs": [],
   "source": [
    "query_1_result = query_1_sql(conn).reset_index(drop=True)"
   ]
  },
  {
   "cell_type": "code",
   "execution_count": 5,
   "metadata": {},
   "outputs": [],
   "source": [
    "pandas_1_result = solution_1(Posts, Users).reset_index(drop=True)"
   ]
  },
  {
   "cell_type": "code",
   "execution_count": 6,
   "metadata": {},
   "outputs": [],
   "source": [
    "isFirstQueryEqual = (\n",
    "    query_1_result.equals(pandas_1_result),\n",
    ")"
   ]
  },
  {
   "cell_type": "code",
   "execution_count": 7,
   "metadata": {},
   "outputs": [
    {
     "data": {
      "text/plain": [
       "(True,)"
      ]
     },
     "execution_count": 7,
     "metadata": {},
     "output_type": "execute_result"
    }
   ],
   "source": [
    "isFirstQueryEqual"
   ]
  },
  {
   "cell_type": "markdown",
   "metadata": {},
   "source": [
    "## Query 2"
   ]
  },
  {
   "cell_type": "markdown",
   "metadata": {},
   "source": [
    "```sql\n",
    "SELECT Posts.Title, RelatedTab.NumLinks FROM\n",
    "(\n",
    "  SELECT RelatedPostId AS PostId, COUNT(*) AS NumLinks\n",
    "  FROM PostLinks\n",
    "  GROUP BY RelatedPostId\n",
    ") AS RelatedTab\n",
    "JOIN Posts ON RelatedTab.PostId=Posts.Id\n",
    "WHERE Posts.PostTypeId=1 ORDER BY NumLinks DESC\n",
    "```"
   ]
  },
  {
   "cell_type": "code",
   "execution_count": 8,
   "metadata": {},
   "outputs": [],
   "source": [
    "query_2_result = query_2_sql(conn).reset_index(drop=True)"
   ]
  },
  {
   "cell_type": "code",
   "execution_count": 35,
   "metadata": {},
   "outputs": [],
   "source": [
    "pandas_2_result = solution_2(Posts, PostLinks).reset_index(drop=True)"
   ]
  },
  {
   "cell_type": "code",
   "execution_count": 36,
   "metadata": {},
   "outputs": [],
   "source": [
    "isSecondQueryEqual = (\n",
    "    query_2_result.equals(pandas_2_result),\n",
    ")"
   ]
  },
  {
   "cell_type": "code",
   "execution_count": 37,
   "metadata": {},
   "outputs": [
    {
     "data": {
      "text/plain": [
       "(True,)"
      ]
     },
     "execution_count": 37,
     "metadata": {},
     "output_type": "execute_result"
    }
   ],
   "source": [
    "isSecondQueryEqual"
   ]
  },
  {
   "cell_type": "code",
   "execution_count": 12,
   "metadata": {},
   "outputs": [
    {
     "data": {
      "text/html": [
       "<div>\n",
       "<style scoped>\n",
       "    .dataframe tbody tr th:only-of-type {\n",
       "        vertical-align: middle;\n",
       "    }\n",
       "\n",
       "    .dataframe tbody tr th {\n",
       "        vertical-align: top;\n",
       "    }\n",
       "\n",
       "    .dataframe thead th {\n",
       "        text-align: right;\n",
       "    }\n",
       "</style>\n",
       "<table border=\"1\" class=\"dataframe\">\n",
       "  <thead>\n",
       "    <tr style=\"text-align: right;\">\n",
       "      <th></th>\n",
       "      <th>Title</th>\n",
       "      <th>NumLinks</th>\n",
       "    </tr>\n",
       "  </thead>\n",
       "  <tbody>\n",
       "    <tr>\n",
       "      <th>0</th>\n",
       "      <td>Is there a way to find out if I need a transit...</td>\n",
       "      <td>1157</td>\n",
       "    </tr>\n",
       "    <tr>\n",
       "      <th>1</th>\n",
       "      <td>Do I need a visa to transit (or layover) in th...</td>\n",
       "      <td>1012</td>\n",
       "    </tr>\n",
       "    <tr>\n",
       "      <th>2</th>\n",
       "      <td>Should I submit bank statements when applying ...</td>\n",
       "      <td>669</td>\n",
       "    </tr>\n",
       "    <tr>\n",
       "      <th>3</th>\n",
       "      <td>UK visa refusal on V 4.2 a + c (and sometimes ...</td>\n",
       "      <td>523</td>\n",
       "    </tr>\n",
       "    <tr>\n",
       "      <th>4</th>\n",
       "      <td>Should my first trip be to the country which i...</td>\n",
       "      <td>461</td>\n",
       "    </tr>\n",
       "    <tr>\n",
       "      <th>...</th>\n",
       "      <td>...</td>\n",
       "      <td>...</td>\n",
       "    </tr>\n",
       "    <tr>\n",
       "      <th>8094</th>\n",
       "      <td>Why can't I reserve a seat on the Eurocity tra...</td>\n",
       "      <td>1</td>\n",
       "    </tr>\n",
       "    <tr>\n",
       "      <th>8095</th>\n",
       "      <td>Independent Research in the US under B1 visa</td>\n",
       "      <td>1</td>\n",
       "    </tr>\n",
       "    <tr>\n",
       "      <th>8096</th>\n",
       "      <td>2 round tickets plus 1 back ticket to Thailand</td>\n",
       "      <td>1</td>\n",
       "    </tr>\n",
       "    <tr>\n",
       "      <th>8097</th>\n",
       "      <td>Which flight search engines show the flight op...</td>\n",
       "      <td>1</td>\n",
       "    </tr>\n",
       "    <tr>\n",
       "      <th>8098</th>\n",
       "      <td>Does bought duty-free count towards cabin lugg...</td>\n",
       "      <td>1</td>\n",
       "    </tr>\n",
       "  </tbody>\n",
       "</table>\n",
       "<p>8099 rows × 2 columns</p>\n",
       "</div>"
      ],
      "text/plain": [
       "                                                  Title  NumLinks\n",
       "0     Is there a way to find out if I need a transit...      1157\n",
       "1     Do I need a visa to transit (or layover) in th...      1012\n",
       "2     Should I submit bank statements when applying ...       669\n",
       "3     UK visa refusal on V 4.2 a + c (and sometimes ...       523\n",
       "4     Should my first trip be to the country which i...       461\n",
       "...                                                 ...       ...\n",
       "8094  Why can't I reserve a seat on the Eurocity tra...         1\n",
       "8095       Independent Research in the US under B1 visa         1\n",
       "8096     2 round tickets plus 1 back ticket to Thailand         1\n",
       "8097  Which flight search engines show the flight op...         1\n",
       "8098  Does bought duty-free count towards cabin lugg...         1\n",
       "\n",
       "[8099 rows x 2 columns]"
      ]
     },
     "execution_count": 12,
     "metadata": {},
     "output_type": "execute_result"
    }
   ],
   "source": [
    "query_2_result"
   ]
  },
  {
   "cell_type": "code",
   "execution_count": 38,
   "metadata": {},
   "outputs": [
    {
     "data": {
      "text/html": [
       "<div>\n",
       "<style scoped>\n",
       "    .dataframe tbody tr th:only-of-type {\n",
       "        vertical-align: middle;\n",
       "    }\n",
       "\n",
       "    .dataframe tbody tr th {\n",
       "        vertical-align: top;\n",
       "    }\n",
       "\n",
       "    .dataframe thead th {\n",
       "        text-align: right;\n",
       "    }\n",
       "</style>\n",
       "<table border=\"1\" class=\"dataframe\">\n",
       "  <thead>\n",
       "    <tr style=\"text-align: right;\">\n",
       "      <th></th>\n",
       "      <th>Title</th>\n",
       "      <th>NumLinks</th>\n",
       "    </tr>\n",
       "  </thead>\n",
       "  <tbody>\n",
       "    <tr>\n",
       "      <th>0</th>\n",
       "      <td>Is there a way to find out if I need a transit...</td>\n",
       "      <td>1157</td>\n",
       "    </tr>\n",
       "    <tr>\n",
       "      <th>1</th>\n",
       "      <td>Do I need a visa to transit (or layover) in th...</td>\n",
       "      <td>1012</td>\n",
       "    </tr>\n",
       "    <tr>\n",
       "      <th>2</th>\n",
       "      <td>Should I submit bank statements when applying ...</td>\n",
       "      <td>669</td>\n",
       "    </tr>\n",
       "    <tr>\n",
       "      <th>3</th>\n",
       "      <td>UK visa refusal on V 4.2 a + c (and sometimes ...</td>\n",
       "      <td>523</td>\n",
       "    </tr>\n",
       "    <tr>\n",
       "      <th>4</th>\n",
       "      <td>Should my first trip be to the country which i...</td>\n",
       "      <td>461</td>\n",
       "    </tr>\n",
       "    <tr>\n",
       "      <th>...</th>\n",
       "      <td>...</td>\n",
       "      <td>...</td>\n",
       "    </tr>\n",
       "    <tr>\n",
       "      <th>8094</th>\n",
       "      <td>Why can't I reserve a seat on the Eurocity tra...</td>\n",
       "      <td>1</td>\n",
       "    </tr>\n",
       "    <tr>\n",
       "      <th>8095</th>\n",
       "      <td>Independent Research in the US under B1 visa</td>\n",
       "      <td>1</td>\n",
       "    </tr>\n",
       "    <tr>\n",
       "      <th>8096</th>\n",
       "      <td>2 round tickets plus 1 back ticket to Thailand</td>\n",
       "      <td>1</td>\n",
       "    </tr>\n",
       "    <tr>\n",
       "      <th>8097</th>\n",
       "      <td>Which flight search engines show the flight op...</td>\n",
       "      <td>1</td>\n",
       "    </tr>\n",
       "    <tr>\n",
       "      <th>8098</th>\n",
       "      <td>Does bought duty-free count towards cabin lugg...</td>\n",
       "      <td>1</td>\n",
       "    </tr>\n",
       "  </tbody>\n",
       "</table>\n",
       "<p>8099 rows × 2 columns</p>\n",
       "</div>"
      ],
      "text/plain": [
       "                                                  Title  NumLinks\n",
       "0     Is there a way to find out if I need a transit...      1157\n",
       "1     Do I need a visa to transit (or layover) in th...      1012\n",
       "2     Should I submit bank statements when applying ...       669\n",
       "3     UK visa refusal on V 4.2 a + c (and sometimes ...       523\n",
       "4     Should my first trip be to the country which i...       461\n",
       "...                                                 ...       ...\n",
       "8094  Why can't I reserve a seat on the Eurocity tra...         1\n",
       "8095       Independent Research in the US under B1 visa         1\n",
       "8096     2 round tickets plus 1 back ticket to Thailand         1\n",
       "8097  Which flight search engines show the flight op...         1\n",
       "8098  Does bought duty-free count towards cabin lugg...         1\n",
       "\n",
       "[8099 rows x 2 columns]"
      ]
     },
     "execution_count": 38,
     "metadata": {},
     "output_type": "execute_result"
    }
   ],
   "source": [
    "pandas_2_result"
   ]
  },
  {
   "cell_type": "markdown",
   "metadata": {},
   "source": [
    "## Query 3"
   ]
  },
  {
   "cell_type": "markdown",
   "metadata": {},
   "source": [
    "```sql\n",
    "SELECT Title, CommentCount, ViewCount, CommentsTotalScore, DisplayName, Reputation, Location \n",
    "FROM (\n",
    "  SELECT Posts.OwnerUserId, Posts.Title, Posts.CommentCount, Posts.ViewCount, CmtTotScr.CommentsTotalScore\n",
    "  FROM (\n",
    "    SELECT PostId, SUM(Score) AS CommentsTotalScore FROM Comments\n",
    "    GROUP BY PostId\n",
    "  ) AS CmtTotScr\n",
    "  JOIN Posts ON Posts.Id = CmtTotScr.PostId WHERE Posts.PostTypeId=1\n",
    ") AS PostsBestComments\n",
    "JOIN Users ON PostsBestComments.OwnerUserId = Users.Id\n",
    "ORDER BY CommentsTotalScore DESC\n",
    "LIMIT 10\n",
    "```"
   ]
  },
  {
   "cell_type": "code",
   "execution_count": 14,
   "metadata": {},
   "outputs": [],
   "source": [
    "query_3_result = query_3_sql(conn).reset_index(drop=True)"
   ]
  },
  {
   "cell_type": "code",
   "execution_count": 15,
   "metadata": {},
   "outputs": [],
   "source": [
    "pandas_3_result = solution_3(Posts, Users, Comments).reset_index(drop=True)"
   ]
  },
  {
   "cell_type": "code",
   "execution_count": 16,
   "metadata": {},
   "outputs": [],
   "source": [
    "isThirdQueryEqual = (\n",
    "    query_3_result.equals(pandas_3_result),\n",
    ")"
   ]
  },
  {
   "cell_type": "code",
   "execution_count": 17,
   "metadata": {},
   "outputs": [
    {
     "data": {
      "text/plain": [
       "(True,)"
      ]
     },
     "execution_count": 17,
     "metadata": {},
     "output_type": "execute_result"
    }
   ],
   "source": [
    "isThirdQueryEqual"
   ]
  },
  {
   "cell_type": "markdown",
   "metadata": {},
   "source": [
    "## Query 4"
   ]
  },
  {
   "cell_type": "markdown",
   "metadata": {},
   "source": [
    "```sql\n",
    "SELECT DisplayName, QuestionsNumber, AnswersNumber, Location, Reputation, UpVotes, DownVotes\n",
    "FROM (\n",
    "  SELECT * FROM (\n",
    "    SELECT COUNT(*) as AnswersNumber, OwnerUserId FROM Posts\n",
    "    WHERE PostTypeId = 2\n",
    "    GROUP BY OwnerUserId\n",
    "  ) AS Answers \n",
    "  JOIN (\n",
    "    SELECT COUNT(*) as QuestionsNumber, OwnerUserId FROM Posts\n",
    "    WHERE PostTypeId = 1\n",
    "    GROUP BY OwnerUserId\n",
    "  ) AS Questions\n",
    "  ON Answers.OwnerUserId = Questions.OwnerUserId \n",
    "  WHERE AnswersNumber > QuestionsNumber\n",
    "  ORDER BY AnswersNumber DESC\n",
    "  LIMIT 5\n",
    ") AS PostsCounts\n",
    "JOIN Users ON PostsCounts.OwnerUserId = Users.Id\n",
    "```"
   ]
  },
  {
   "cell_type": "code",
   "execution_count": 18,
   "metadata": {},
   "outputs": [],
   "source": [
    "query_4_result = query_4_sql(conn).reset_index(drop=True)"
   ]
  },
  {
   "cell_type": "code",
   "execution_count": 19,
   "metadata": {},
   "outputs": [],
   "source": [
    "pandas_4_result = solution_4(Posts, Users).reset_index(drop=True)"
   ]
  },
  {
   "cell_type": "code",
   "execution_count": 20,
   "metadata": {},
   "outputs": [],
   "source": [
    "isFourthQueryEqual = (\n",
    "    query_4_result.equals(pandas_4_result),\n",
    ")"
   ]
  },
  {
   "cell_type": "code",
   "execution_count": 21,
   "metadata": {},
   "outputs": [
    {
     "data": {
      "text/plain": [
       "(True,)"
      ]
     },
     "execution_count": 21,
     "metadata": {},
     "output_type": "execute_result"
    }
   ],
   "source": [
    "isFourthQueryEqual"
   ]
  },
  {
   "cell_type": "markdown",
   "metadata": {},
   "source": [
    "## Query 5"
   ]
  },
  {
   "cell_type": "markdown",
   "metadata": {},
   "source": [
    "```sql\n",
    "SELECT Questions.Id, Questions.Title, BestAnswers.MaxScore,\n",
    "Posts.Score AS AcceptedScore, BestAnswers.MaxScore-Posts.Score AS Difference\n",
    "FROM (\n",
    "  SELECT Id, ParentId, MAX(Score) AS MaxScore FROM Posts\n",
    "  WHERE PostTypeId==2\n",
    "  GROUP BY ParentId\n",
    ") AS BestAnswers\n",
    "JOIN (\n",
    "  SELECT * FROM Posts\n",
    "  WHERE PostTypeId==1 \n",
    ") AS Questions\n",
    "ON Questions.Id=BestAnswers.ParentId\n",
    "JOIN Posts ON Questions.AcceptedAnswerId=Posts.Id\n",
    "WHERE Difference>50\n",
    "ORDER BY Difference DESC\n",
    "```"
   ]
  },
  {
   "cell_type": "code",
   "execution_count": 22,
   "metadata": {},
   "outputs": [],
   "source": [
    "query_5_result = query_5_sql(conn).reset_index(drop=True)"
   ]
  },
  {
   "cell_type": "code",
   "execution_count": 23,
   "metadata": {},
   "outputs": [],
   "source": [
    "pandas_5_result = solution_5(Posts).reset_index(drop=True)"
   ]
  },
  {
   "cell_type": "code",
   "execution_count": 24,
   "metadata": {},
   "outputs": [],
   "source": [
    "isFifthQueryEqual = (\n",
    "    query_5_result.equals(pandas_5_result),\n",
    ")"
   ]
  },
  {
   "cell_type": "code",
   "execution_count": 25,
   "metadata": {},
   "outputs": [
    {
     "data": {
      "text/plain": [
       "(True,)"
      ]
     },
     "execution_count": 25,
     "metadata": {},
     "output_type": "execute_result"
    }
   ],
   "source": [
    "isFifthQueryEqual"
   ]
  },
  {
   "cell_type": "markdown",
   "metadata": {},
   "source": [
    "# Closing the database connection"
   ]
  },
  {
   "cell_type": "code",
   "execution_count": 26,
   "metadata": {},
   "outputs": [],
   "source": [
    "conn.close()\n"
   ]
  }
 ],
 "metadata": {
  "kernelspec": {
   "display_name": "Python 3 (ipykernel)",
   "language": "python",
   "name": "python3"
  },
  "language_info": {
   "codemirror_mode": {
    "name": "ipython",
    "version": 3
   },
   "file_extension": ".py",
   "mimetype": "text/x-python",
   "name": "python",
   "nbconvert_exporter": "python",
   "pygments_lexer": "ipython3",
   "version": "3.11.5"
  }
 },
 "nbformat": 4,
 "nbformat_minor": 2
}
